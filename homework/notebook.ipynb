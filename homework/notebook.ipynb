{
 "cells": [
  {
   "cell_type": "code",
   "execution_count": 1,
   "id": "3dba2fff",
   "metadata": {},
   "outputs": [],
   "source": [
    "# %%\n",
    "import matplotlib.pyplot as plt\n",
    "from sklearn import datasets\n",
    "from sklearn.model_selection import train_test_split\n"
   ]
  },
  {
   "cell_type": "code",
   "execution_count": 2,
   "id": "67ba7580",
   "metadata": {},
   "outputs": [],
   "source": [
    "# %%\n",
    "digits = datasets.load_digits()"
   ]
  },
  {
   "cell_type": "code",
   "execution_count": 3,
   "id": "bbc8f76b",
   "metadata": {},
   "outputs": [
    {
     "data": {
      "text/plain": [
       "(1797, 8, 8)"
      ]
     },
     "execution_count": 3,
     "metadata": {},
     "output_type": "execute_result"
    }
   ],
   "source": [
    "#\n",
    "# Tamaño del dataset\n",
    "#\n",
    "digits.images.shape\n"
   ]
  },
  {
   "cell_type": "code",
   "execution_count": 4,
   "id": "2fb55da3",
   "metadata": {},
   "outputs": [
    {
     "data": {
      "text/plain": [
       "array([[ 0.,  0.,  5., 13.,  9.,  1.,  0.,  0.],\n",
       "       [ 0.,  0., 13., 15., 10., 15.,  5.,  0.],\n",
       "       [ 0.,  3., 15.,  2.,  0., 11.,  8.,  0.],\n",
       "       [ 0.,  4., 12.,  0.,  0.,  8.,  8.,  0.],\n",
       "       [ 0.,  5.,  8.,  0.,  0.,  9.,  8.,  0.],\n",
       "       [ 0.,  4., 11.,  0.,  1., 12.,  7.,  0.],\n",
       "       [ 0.,  2., 14.,  5., 10., 12.,  0.,  0.],\n",
       "       [ 0.,  0.,  6., 13., 10.,  0.,  0.,  0.]])"
      ]
     },
     "execution_count": 4,
     "metadata": {},
     "output_type": "execute_result"
    }
   ],
   "source": [
    "#\n",
    "# Ejemplo de una imagen (data)\n",
    "#\n",
    "digits.images[0, :, :]\n",
    "\n"
   ]
  },
  {
   "cell_type": "code",
   "execution_count": 5,
   "id": "65c5d73a",
   "metadata": {},
   "outputs": [
    {
     "data": {
      "text/plain": [
       "{0, 1, 2, 3, 4, 5, 6, 7, 8, 9}"
      ]
     },
     "execution_count": 5,
     "metadata": {},
     "output_type": "execute_result"
    }
   ],
   "source": [
    "\n",
    "# %%\n",
    "#\n",
    "# Clases\n",
    "#\n",
    "set(digits.target)\n",
    "\n",
    "\n"
   ]
  },
  {
   "cell_type": "code",
   "execution_count": 6,
   "id": "d22072e1",
   "metadata": {},
   "outputs": [
    {
     "data": {
      "image/png": "[encoded data removed]",
      "text/plain": [
       "<Figure size 640x480 with 1 Axes>"
      ]
     },
     "metadata": {},
     "output_type": "display_data"
    }
   ],
   "source": [
    "# %%\n",
    "#\n",
    "# Ejemplo de una imagen\n",
    "#\n",
    "plt.figure()\n",
    "plt.imshow(digits.images[0], cmap=plt.cm.binary)\n",
    "plt.grid(False)\n",
    "plt.show()"
   ]
  },
  {
   "cell_type": "code",
   "execution_count": 7,
   "id": "4a9917e9",
   "metadata": {},
   "outputs": [
    {
     "data": {
      "image/png": "[encoded data removed]",
      "text/plain": [
       "<Figure size 800x800 with 25 Axes>"
      ]
     },
     "metadata": {},
     "output_type": "display_data"
    }
   ],
   "source": [
    "# %%\n",
    "plt.figure(figsize=(8, 8))\n",
    "for i in range(25):\n",
    "    plt.subplot(5, 5, i + 1)\n",
    "    plt.xticks([])\n",
    "    plt.yticks([])\n",
    "    plt.grid(False)\n",
    "    plt.imshow(digits.images[i], cmap=plt.cm.binary)\n",
    "    plt.xlabel(digits.target[i])\n",
    "plt.show()"
   ]
  },
  {
   "cell_type": "code",
   "execution_count": 8,
   "id": "b954744b",
   "metadata": {},
   "outputs": [
    {
     "data": {
      "text/plain": [
       "(1797, 64)"
      ]
     },
     "execution_count": 8,
     "metadata": {},
     "output_type": "execute_result"
    }
   ],
   "source": [
    "# %%\n",
    "# Cambio de las dimensiones de los datos\n",
    "#\n",
    "n_samples = len(digits.images)\n",
    "data = digits.images.reshape((n_samples, -1))\n",
    "data.shape#\n",
    "\n"
   ]
  },
  {
   "cell_type": "code",
   "execution_count": 9,
   "id": "13880bf8",
   "metadata": {},
   "outputs": [],
   "source": [
    "# %%\n",
    "#\n",
    "# Particionamiento de los datos\n",
    "#\n",
    "X_train, X_test, y_train, y_test = train_test_split(\n",
    "    data,\n",
    "    digits.target,\n",
    "    test_size=0.5,\n",
    "    shuffle=False,\n",
    ")"
   ]
  },
  {
   "cell_type": "code",
   "execution_count": 10,
   "id": "fdc56154",
   "metadata": {},
   "outputs": [
    {
     "data": {
      "text/plain": [
       "LogisticRegression(max_iter=1000)"
      ]
     },
     "execution_count": 10,
     "metadata": {},
     "output_type": "execute_result"
    }
   ],
   "source": [
    "from sklearn.linear_model import LogisticRegression\n",
    "\n",
    "estimator = LogisticRegression(max_iter=1000)\n",
    "estimator\n"
   ]
  },
  {
   "cell_type": "code",
   "execution_count": 11,
   "id": "2274efee",
   "metadata": {},
   "outputs": [
    {
     "name": "stderr",
     "output_type": "stream",
     "text": [
      "c:\\Users\\User\\Documents\\UNAL\\analitica-predictiva\\PRE-04-clasificacion-basica-de-imagenes-srodriguezsu\\.venv\\lib\\site-packages\\sklearn\\linear_model\\_logistic.py:818: ConvergenceWarning: lbfgs failed to converge (status=1):\n",
      "STOP: TOTAL NO. of ITERATIONS REACHED LIMIT.\n",
      "\n",
      "Increase the number of iterations (max_iter) or scale the data as shown in:\n",
      "    https://scikit-learn.org/stable/modules/preprocessing.html\n",
      "Please also refer to the documentation for alternative solver options:\n",
      "    https://scikit-learn.org/stable/modules/linear_model.html#logistic-regression\n",
      "  extra_warning_msg=_LOGISTIC_SOLVER_CONVERGENCE_MSG,\n"
     ]
    },
    {
     "data": {
      "text/plain": [
       "LogisticRegression(max_iter=1000)"
      ]
     },
     "execution_count": 11,
     "metadata": {},
     "output_type": "execute_result"
    }
   ],
   "source": [
    "estimator.fit(\n",
    "    X_train,\n",
    "    y_train,\n",
    ")\n"
   ]
  },
  {
   "cell_type": "code",
   "execution_count": 12,
   "id": "32a3b11d",
   "metadata": {},
   "outputs": [
    {
     "data": {
      "text/plain": [
       "array([[ 0.00000000e+00, -5.86910076e-03, -4.08411947e-02,\n",
       "         5.43017277e-02,  1.49297652e-02, -3.85731449e-02,\n",
       "        -8.79782004e-02, -1.08594233e-02, -3.25580860e-05,\n",
       "        -2.49431962e-02, -4.44138421e-02,  5.93337164e-02,\n",
       "         4.08793400e-02,  6.29590333e-02, -6.77955419e-03,\n",
       "        -1.21556745e-02,  1.85606126e-06,  2.21086952e-02,\n",
       "         8.84309386e-02, -1.12894263e-03, -1.16970462e-01,\n",
       "         6.84346865e-02,  1.02235038e-01, -3.04780268e-03,\n",
       "         1.85583421e-06,  4.62625546e-02,  1.07551939e-01,\n",
       "        -1.40281448e-01, -3.42676797e-01, -2.14372044e-02,\n",
       "         1.79560312e-01,  1.77021729e-06,  0.00000000e+00,\n",
       "         1.08992959e-01,  6.97009488e-02, -2.03342107e-01,\n",
       "        -2.30244137e-01, -5.63519328e-03,  1.17797757e-01,\n",
       "         0.00000000e+00,  1.29122757e-05,  3.79445716e-02,\n",
       "         1.26821529e-01, -1.79732942e-02, -1.21657322e-01,\n",
       "         7.96282374e-02,  5.46808918e-02,  4.32465537e-06,\n",
       "         3.47981407e-06, -4.67184209e-02,  9.37038111e-02,\n",
       "        -1.15983252e-03,  7.79857021e-02,  1.07241883e-01,\n",
       "        -1.24174043e-02,  1.66431546e-04,  6.76231445e-07,\n",
       "        -4.55386799e-03,  4.77835398e-04,  2.74405526e-02,\n",
       "         1.04325042e-02, -7.33208588e-02, -2.28009850e-02,\n",
       "         3.37783903e-04],\n",
       "       [ 0.00000000e+00, -2.13533483e-02,  2.08456947e-02,\n",
       "         6.06531810e-02, -2.98627257e-01,  2.14835262e-01,\n",
       "         3.04234386e-02, -3.40585973e-04, -5.15932186e-05,\n",
       "        -9.09957050e-02, -2.85811158e-01, -2.79543981e-01,\n",
       "         1.01799942e-01,  3.85823757e-02, -1.62857203e-01,\n",
       "        -3.66523364e-04,  1.99350299e-06,  3.86734682e-02,\n",
       "        -1.29488829e-01,  3.91266640e-01,  2.78318486e-01,\n",
       "        -1.15930686e-01, -1.28236078e-01, -4.73040933e-04,\n",
       "        -1.33475692e-03,  9.83883720e-02,  1.59145825e-01,\n",
       "         3.53334540e-01,  2.62529262e-01,  2.69619184e-02,\n",
       "        -8.11291937e-02,  2.11589469e-06,  0.00000000e+00,\n",
       "         2.55727251e-02,  1.89333893e-01, -1.52008690e-01,\n",
       "         2.79538040e-01,  5.79584793e-02, -1.80482021e-01,\n",
       "         0.00000000e+00,  1.31484331e-05, -1.63783076e-01,\n",
       "        -2.34253877e-03,  1.32291369e-01,  1.21930982e-01,\n",
       "        -2.60230815e-01, -1.77222250e-01,  5.74126594e-06,\n",
       "        -1.97919246e-05, -5.72078155e-02, -2.21699057e-02,\n",
       "         1.93856440e-01,  2.15951761e-01,  3.88043799e-02,\n",
       "         3.11399094e-02,  8.30101386e-02, -7.88008482e-06,\n",
       "        -3.04409195e-02, -4.62231240e-02,  6.12533108e-02,\n",
       "        -2.97936609e-02,  1.91970827e-01,  8.19613692e-02,\n",
       "         1.86913335e-01],\n",
       "       [ 0.00000000e+00,  2.60473210e-02, -2.36735145e-02,\n",
       "         1.91183768e-02,  6.66097550e-02,  3.71877988e-02,\n",
       "         1.47472943e-02, -4.88802265e-03,  1.88648727e-06,\n",
       "         1.83807976e-01,  1.40844864e-01, -8.40926131e-02,\n",
       "         1.12468318e-01, -3.88060615e-02,  7.09642811e-02,\n",
       "        -4.09438336e-03,  2.45406060e-03, -7.84380654e-02,\n",
       "         6.79853383e-03, -1.73344800e-01,  1.48187663e-01,\n",
       "        -7.32328503e-02,  1.23487731e-01,  5.83929203e-05,\n",
       "         1.87519870e-06, -1.34475342e-01, -3.35997778e-01,\n",
       "        -2.72614717e-01, -7.37976875e-02, -1.35987388e-03,\n",
       "         5.38291151e-02,  1.85725228e-06,  0.00000000e+00,\n",
       "        -7.29139685e-02, -2.32175686e-01, -1.50400436e-01,\n",
       "         9.71979621e-02, -2.36060438e-01, -1.41716019e-01,\n",
       "         0.00000000e+00,  1.29950020e-05,  7.19176930e-02,\n",
       "         1.45410438e-01,  3.23228776e-01, -2.59183774e-01,\n",
       "        -2.73350584e-01, -7.17421568e-02,  5.53438882e-06,\n",
       "        -8.81469227e-05,  9.24726726e-02,  1.56199922e-02,\n",
       "         3.20920112e-01,  1.15900925e-01,  2.54677295e-01,\n",
       "         9.58825518e-02,  4.19551008e-02, -3.06250985e-05,\n",
       "         4.81935471e-02,  1.01830874e-01,  8.24303512e-02,\n",
       "         1.82534475e-02,  1.94180727e-01,  2.71563971e-01,\n",
       "         1.94251275e-02],\n",
       "       [ 0.00000000e+00,  5.90673845e-02, -3.80031964e-02,\n",
       "         9.79473754e-02,  2.54745839e-01, -5.69079150e-03,\n",
       "         2.20911160e-02, -1.00597947e-04, -3.75286433e-06,\n",
       "        -1.04315090e-01,  3.50603196e-02, -5.92861997e-02,\n",
       "         6.10758301e-02,  2.23305441e-02,  5.56503997e-02,\n",
       "         6.65821999e-04, -2.46839761e-03,  3.14650607e-02,\n",
       "        -1.47748205e-01, -3.35579004e-01, -2.89919654e-02,\n",
       "        -1.46660036e-01, -5.05065676e-03, -9.90893316e-05,\n",
       "         1.85602244e-06, -1.06666466e-01, -3.93930910e-01,\n",
       "        -2.29927735e-01,  1.23064199e-01, -2.45197395e-01,\n",
       "        -1.85242524e-01,  1.85598542e-06,  0.00000000e+00,\n",
       "        -4.34506403e-02, -2.74435066e-01, -6.53471846e-02,\n",
       "         2.10163259e-01, -6.58281149e-02,  5.56771663e-02,\n",
       "         0.00000000e+00,  1.29915394e-05, -7.10006330e-02,\n",
       "        -2.38111937e-01, -4.61633908e-01, -3.91596674e-02,\n",
       "         2.44699957e-01,  1.64255514e-01,  5.56779696e-06,\n",
       "         8.30987270e-06,  2.05629203e-02,  1.39716901e-01,\n",
       "        -3.82621960e-02,  4.75937165e-03,  7.32180053e-02,\n",
       "         2.88515417e-02, -2.98518951e-02,  1.53229533e-06,\n",
       "         4.30711044e-02,  2.02046974e-01, -7.93494999e-02,\n",
       "         4.20105222e-02,  4.53441020e-02,  5.82242008e-02,\n",
       "        -7.90829620e-02],\n",
       "       [ 0.00000000e+00,  2.64353810e-04, -2.04476816e-01,\n",
       "        -1.68868323e-01, -4.73227868e-02, -2.01563666e-01,\n",
       "        -1.40874531e-01,  7.34937852e-02, -3.71791360e-05,\n",
       "        -1.81629304e-02, -1.44654694e-01, -3.53799638e-02,\n",
       "        -1.49379565e-01, -2.01067590e-01, -8.34711854e-02,\n",
       "        -4.26985745e-03,  1.85628587e-06,  9.70732502e-03,\n",
       "         4.93039467e-02,  1.07207161e-01,  1.01220535e-01,\n",
       "        -5.78117116e-02, -7.37590153e-02,  1.09800147e-02,\n",
       "         1.33327423e-03,  8.74145068e-02,  1.72163549e-01,\n",
       "         3.65866289e-02, -2.52474768e-02,  7.86116026e-02,\n",
       "         2.72874211e-01,  5.57436233e-03,  0.00000000e+00,\n",
       "         1.54505218e-01,  2.33631839e-01, -3.80105001e-02,\n",
       "         1.64822773e-01,  1.57996881e-01,  7.34433017e-02,\n",
       "         0.00000000e+00, -1.01585065e-04,  3.10864260e-01,\n",
       "         1.30624593e-01,  2.87421378e-01,  2.57849347e-01,\n",
       "         1.67839042e-04, -1.18245935e-02, -1.37801385e-05,\n",
       "        -2.62811357e-05,  8.46585336e-02, -1.82930622e-01,\n",
       "        -3.87942590e-02,  4.47783048e-02, -2.09779910e-01,\n",
       "        -1.32127262e-01, -6.59582971e-03,  2.07179591e-06,\n",
       "        -1.68215499e-02, -2.38773941e-01, -1.10326680e-01,\n",
       "        -1.14523665e-01, -1.58402340e-01, -5.11977692e-02,\n",
       "         1.33206443e-05],\n",
       "       [ 0.00000000e+00,  6.02157169e-02,  2.64321691e-01,\n",
       "        -9.08871970e-03,  3.94329010e-02,  2.23719175e-01,\n",
       "         2.54160453e-01, -4.26941311e-02,  1.69798715e-04,\n",
       "         7.06387036e-02,  1.12853349e-01,  7.99408773e-02,\n",
       "         2.07641362e-02,  1.55983008e-01, -6.52730021e-02,\n",
       "        -1.97585426e-02,  1.93977497e-06,  2.62938211e-03,\n",
       "         1.49352529e-01,  9.60160862e-02, -1.91826157e-01,\n",
       "        -2.94618025e-01, -2.56018372e-01, -2.18241294e-03,\n",
       "        -1.11481574e-05,  2.01624381e-01,  2.26575332e-01,\n",
       "         6.56574823e-02,  4.31026768e-02, -1.30086280e-01,\n",
       "        -9.17784464e-02,  1.98107134e-06,  0.00000000e+00,\n",
       "        -3.07558328e-02,  2.24057689e-02, -8.56236075e-02,\n",
       "        -1.35344404e-01,  8.49777007e-02,  2.41592721e-01,\n",
       "         0.00000000e+00,  1.30010796e-05, -9.15923884e-02,\n",
       "        -1.19520128e-01, -5.11769293e-02,  3.85891792e-02,\n",
       "         1.28142964e-01,  9.67783460e-02,  5.56375326e-06,\n",
       "         9.52855423e-06,  5.91409704e-02, -1.23970915e-01,\n",
       "        -1.62480579e-01,  3.16055421e-02,  3.55203598e-02,\n",
       "        -7.10817781e-02,  1.57331517e-04,  1.93579946e-06,\n",
       "         7.25025971e-02,  2.08608358e-01,  1.15447902e-01,\n",
       "        -1.02573024e-01, -5.40868484e-02, -2.41057055e-01,\n",
       "        -1.25110472e-03],\n",
       "       [ 0.00000000e+00, -1.25059302e-02, -1.07571380e-01,\n",
       "        -1.00224401e-02, -2.35360699e-02, -2.44739453e-03,\n",
       "        -1.25552503e-01,  2.84832865e-04, -7.43715813e-06,\n",
       "        -1.16544725e-01, -1.34401914e-01,  6.67931798e-02,\n",
       "        -2.21889321e-01, -2.05146652e-02, -4.47085632e-02,\n",
       "         2.00385277e-04,  1.85875755e-06, -7.73584013e-02,\n",
       "         9.20954804e-02,  3.01646252e-02, -2.43428824e-01,\n",
       "        -2.81189008e-01, -8.24970072e-02,  4.04863087e-05,\n",
       "         1.43864109e-06,  4.85773745e-02,  6.68824260e-02,\n",
       "         9.56264424e-02, -1.49004546e-01, -1.08487341e-01,\n",
       "        -4.60348636e-02,  1.76462145e-06,  0.00000000e+00,\n",
       "         6.14205569e-02,  2.15238902e-01,  1.63715153e-01,\n",
       "        -1.57569071e-01,  7.98542268e-02,  4.84191743e-02,\n",
       "         0.00000000e+00, -2.56740566e-06, -9.07802176e-02,\n",
       "         3.54590701e-01,  2.38537649e-02,  1.05073394e-01,\n",
       "         1.33836459e-01,  1.19196423e-01,  8.03494646e-04,\n",
       "         1.03998301e-05, -3.86820368e-02,  5.54258539e-02,\n",
       "         7.53987739e-02, -4.45831599e-02,  1.16714143e-01,\n",
       "         2.08202620e-02, -6.15522485e-02,  1.88503445e-06,\n",
       "        -1.52559590e-02, -1.53358844e-01, -3.50648478e-02,\n",
       "         5.32358729e-02,  1.22844882e-01, -3.78115012e-03,\n",
       "        -4.60857501e-02],\n",
       "       [ 0.00000000e+00, -7.05883173e-02,  1.44717200e-01,\n",
       "        -5.16915201e-02, -6.34485774e-03,  7.37460696e-02,\n",
       "         1.41944419e-01,  7.02633976e-02,  1.85129884e-06,\n",
       "         1.06252063e-02,  1.68122628e-01,  1.20522095e-01,\n",
       "         3.16866342e-01, -1.15321112e-01, -2.05206190e-02,\n",
       "         5.42211399e-02,  1.37734317e-06, -7.04645020e-02,\n",
       "        -3.40217447e-01, -1.31982276e-01,  1.97510004e-02,\n",
       "         1.48935577e-01,  1.34556396e-01,  4.26683402e-03,\n",
       "         1.71943325e-06, -1.59856845e-01,  1.33492399e-02,\n",
       "        -2.86993440e-01, -3.98733417e-02,  1.33049051e-01,\n",
       "         1.35881685e-01, -2.55334603e-03,  0.00000000e+00,\n",
       "         6.59733730e-02,  1.30916940e-02, -1.19872379e-02,\n",
       "         6.03009080e-02,  2.23288588e-01,  1.85958453e-01,\n",
       "         0.00000000e+00,  1.29922629e-05,  8.43804421e-03,\n",
       "        -7.72007323e-02,  7.67157476e-02,  7.79514077e-02,\n",
       "        -7.75789518e-02, -1.03661093e-02,  5.56711305e-06,\n",
       "         1.25817407e-06, -5.97812177e-02, -9.00986492e-02,\n",
       "         5.36929778e-02, -1.00590025e-01, -3.34623978e-01,\n",
       "        -4.92047830e-02,  4.10956928e-06, -6.36222939e-07,\n",
       "        -6.51541985e-02,  8.13222340e-02, -9.20760917e-02,\n",
       "        -1.19115355e-01, -2.45695482e-01, -1.88813596e-02,\n",
       "        -1.26263723e-03],\n",
       "       [ 0.00000000e+00, -2.23783493e-02, -7.80393347e-03,\n",
       "        -1.41046162e-01,  9.13042226e-02, -1.42700790e-01,\n",
       "        -9.47698555e-02, -1.06407518e-03, -4.21573407e-05,\n",
       "        -5.48405078e-02,  1.03186243e-01,  5.83930804e-02,\n",
       "        -1.63031529e-01,  5.94178977e-02,  3.03419131e-02,\n",
       "        -3.69686289e-04,  1.92564064e-06, -3.75929305e-02,\n",
       "        -1.55504997e-02,  4.39340885e-02, -6.34834935e-02,\n",
       "         3.30384261e-01,  8.97193197e-02, -3.42683196e-04,\n",
       "         2.02780316e-06, -5.35835812e-02,  1.87480564e-02,\n",
       "         1.60998031e-01,  6.56282095e-02, -9.21173349e-02,\n",
       "        -1.51268260e-01, -6.97830829e-05,  0.00000000e+00,\n",
       "        -1.60901068e-01, -1.12260413e-01,  3.05111972e-01,\n",
       "        -8.07457922e-02, -2.65547336e-01, -2.67165422e-01,\n",
       "         0.00000000e+00,  1.31200840e-05,  7.09919536e-02,\n",
       "         1.81790354e-01,  9.84684913e-02,  7.60496107e-02,\n",
       "         2.40209267e-01,  1.03272575e-02, -8.27581357e-04,\n",
       "         9.13348538e-05, -1.63404162e-01,  7.27278031e-02,\n",
       "        -2.12701407e-01, -1.19920089e-01,  3.75922401e-02,\n",
       "         7.62890604e-02, -4.19165362e-02,  2.89761876e-05,\n",
       "        -2.72135836e-02, -2.01871979e-01,  1.24950971e-01,\n",
       "         2.11212543e-01,  2.80067786e-03, -7.86105952e-02,\n",
       "        -6.02053634e-02],\n",
       "       [ 0.00000000e+00, -1.28997302e-02, -7.51455015e-03,\n",
       "         1.48696504e-01, -9.11915122e-02, -1.58512517e-01,\n",
       "        -1.41916305e-02, -8.40951796e-02,  1.14130272e-06,\n",
       "         1.44730269e-01,  4.92142050e-02,  7.33198085e-02,\n",
       "        -1.19553494e-01,  3.64365703e-02,  2.26653533e-01,\n",
       "        -1.40726797e-02,  1.52964408e-06,  1.59269968e-01,\n",
       "         2.47023552e-01, -2.65535791e-02,  9.72232169e-02,\n",
       "         4.21687793e-01,  9.55626438e-02, -9.20069886e-03,\n",
       "         1.85791332e-06, -2.76849552e-02, -3.44876796e-02,\n",
       "         2.17614215e-01,  1.36275501e-01,  3.60062858e-01,\n",
       "        -8.66920352e-02, -2.96257825e-03,  0.00000000e+00,\n",
       "        -1.08443322e-01, -1.24531881e-01,  2.37892639e-01,\n",
       "        -2.08119537e-01, -3.10047925e-02, -1.33525113e-01,\n",
       "         0.00000000e+00,  1.29917941e-05, -8.30002081e-02,\n",
       "        -5.02062278e-01, -4.11195396e-01, -2.57443157e-01,\n",
       "        -2.15524373e-01, -1.74083323e-01,  5.56787643e-06,\n",
       "         9.90888411e-06,  1.08958556e-01,  4.19757309e-02,\n",
       "        -1.90470030e-01, -2.25888332e-01, -1.19364419e-01,\n",
       "         1.18479021e-02,  1.46233975e-02,  2.06406200e-06,\n",
       "        -4.32717002e-03,  4.59416110e-02, -9.47059680e-02,\n",
       "         3.08608156e-02, -2.56356868e-02,  4.57937386e-03,\n",
       "        -1.88017497e-02]])"
      ]
     },
     "execution_count": 12,
     "metadata": {},
     "output_type": "execute_result"
    }
   ],
   "source": [
    "estimator.coef_"
   ]
  },
  {
   "cell_type": "code",
   "execution_count": 13,
   "id": "ffb7f6d4",
   "metadata": {},
   "outputs": [
    {
     "data": {
      "text/plain": [
       "1.0"
      ]
     },
     "execution_count": 13,
     "metadata": {},
     "output_type": "execute_result"
    }
   ],
   "source": [
    "from sklearn.metrics import accuracy_score\n",
    "\n",
    "#\n",
    "# Muestra de entrenamiento\n",
    "#\n",
    "accuracy_score(y_true=y_train, y_pred=estimator.predict(X_train))\n"
   ]
  },
  {
   "cell_type": "code",
   "execution_count": 14,
   "id": "411918ac",
   "metadata": {},
   "outputs": [
    {
     "data": {
      "text/plain": [
       "0.9310344827586207"
      ]
     },
     "execution_count": 14,
     "metadata": {},
     "output_type": "execute_result"
    }
   ],
   "source": [
    "#\n",
    "# Muestra de prueba\n",
    "#\n",
    "predictions = estimator.predict(X_test)\n",
    "predicted_proba = estimator.predict_proba(X_test)\n",
    "\n",
    "accuracy_score(y_true=y_test, y_pred=predictions)\n",
    "\n",
    "\n",
    "\n"
   ]
  },
  {
   "cell_type": "code",
   "execution_count": 15,
   "id": "61f6650e",
   "metadata": {},
   "outputs": [
    {
     "name": "stdout",
     "output_type": "stream",
     "text": [
      "Confusion matrix:\n",
      "[[85  0  0  0  1  0  2  0  0  0]\n",
      " [ 0 79  0  1  0  0  0  0  2  9]\n",
      " [ 0  0 84  2  0  0  0  0  0  0]\n",
      " [ 0  0  0 77  0  4  0  2  7  1]\n",
      " [ 0  0  0  0 85  0  3  0  0  4]\n",
      " [ 0  0  0  0  0 87  2  0  0  2]\n",
      " [ 0  1  0  0  0  0 90  0  0  0]\n",
      " [ 0  0  0  0  1  0  0 85  1  2]\n",
      " [ 0  2  1  0  0  4  1  1 78  1]\n",
      " [ 1  0  0  0  0  2  0  0  2 87]]\n"
     ]
    },
    {
     "data": {
      "image/png": "[encoded data removed]",
      "text/plain": [
       "<Figure size 640x480 with 2 Axes>"
      ]
     },
     "metadata": {},
     "output_type": "display_data"
    }
   ],
   "source": [
    "from sklearn.metrics import ConfusionMatrixDisplay\n",
    "\n",
    "disp = ConfusionMatrixDisplay.from_predictions(\n",
    "    y_test,\n",
    "    predictions,\n",
    "    cmap=\"Greens\",\n",
    ")\n",
    "disp.figure_.suptitle(\"Confusion Matrix\")\n",
    "print(f\"Confusion matrix:\\n{disp.confusion_matrix}\")\n"
   ]
  },
  {
   "cell_type": "code",
   "execution_count": 16,
   "id": "ea1166aa",
   "metadata": {},
   "outputs": [],
   "source": [
    "\n",
    "def plot_image(i, predicted_label, true_label, predicted_proba, img):\n",
    "\n",
    "    true_label, img = true_label[i], img[i]\n",
    "    plt.grid(False)\n",
    "    plt.xticks([])\n",
    "    plt.yticks([])\n",
    "    #\n",
    "    plt.imshow(img, cmap=plt.cm.binary)\n",
    "\n",
    "    if predicted_label[i] == true_label:\n",
    "        color = \"blue\"\n",
    "    else:\n",
    "        color = \"red\"\n",
    "\n",
    "    plt.xlabel(\n",
    "        \"{} {:2.0f}% ({})\".format(\n",
    "            predicted_label[i],\n",
    "            100 * max(predicted_proba[i, :]),\n",
    "            true_label,\n",
    "        ),\n",
    "        color=color,\n",
    "    )\n",
    "\n",
    "\n",
    "def plot_value_array(i, predicted_proba, predicted_label, true_label):\n",
    "    #\n",
    "    plt.grid(False)\n",
    "    plt.xticks(range(10))\n",
    "    plt.yticks([])\n",
    "    thisplot = plt.bar(range(10), predicted_proba[i, :], color=\"#777777\")\n",
    "    plt.ylim([0, 1])\n",
    "    #\n",
    "    thisplot[predicted_label[i]].set_color(\"red\")\n",
    "    thisplot[true_label[i]].set_color(\"blue\")\n",
    "\n"
   ]
  },
  {
   "cell_type": "code",
   "execution_count": 17,
   "id": "b44bfbdb",
   "metadata": {},
   "outputs": [
    {
     "data": {
      "image/png": "[encoded data removed]",
      "text/plain": [
       "<Figure size 600x300 with 2 Axes>"
      ]
     },
     "metadata": {},
     "output_type": "display_data"
    }
   ],
   "source": [
    "\n",
    "\n",
    "i = 0\n",
    "plt.figure(figsize=(6, 3))\n",
    "plt.subplot(1, 2, 1)\n",
    "plot_image(\n",
    "    i,\n",
    "    predictions,\n",
    "    y_test,\n",
    "    predicted_proba,\n",
    "    X_test.reshape(len(X_test), 8, 8),\n",
    ")\n",
    "plt.subplot(1, 2, 2)\n",
    "plot_value_array(\n",
    "    i,\n",
    "    predicted_proba,\n",
    "    predictions,\n",
    "    y_test,\n",
    ")\n",
    "plt.show()    \n",
    "    \n",
    "    \n",
    "    \n"
   ]
  },
  {
   "cell_type": "code",
   "execution_count": 18,
   "id": "e2941aa5",
   "metadata": {},
   "outputs": [
    {
     "data": {
      "image/png": "[encoded data removed]",
      "text/plain": [
       "<Figure size 1200x1000 with 30 Axes>"
      ]
     },
     "metadata": {},
     "output_type": "display_data"
    }
   ],
   "source": [
    "    \n",
    "num_rows = 5\n",
    "num_cols = 3\n",
    "num_images = num_rows * num_cols\n",
    "\n",
    "plt.figure(figsize=(2 * 2 * num_cols, 2 * num_rows))\n",
    "\n",
    "for i in range(num_images):\n",
    "    plt.subplot(num_rows, 2 * num_cols, 2 * i + 1)\n",
    "    plot_image(\n",
    "        i,\n",
    "        predictions,\n",
    "        y_test,\n",
    "        predicted_proba,\n",
    "        X_test.reshape(len(X_test), 8, 8),\n",
    "    )\n",
    "    plt.subplot(num_rows, 2 * num_cols, 2 * i + 2)\n",
    "    plot_value_array(\n",
    "        i,\n",
    "        predicted_proba,\n",
    "        predictions,\n",
    "        y_test,\n",
    "    )\n",
    "plt.tight_layout()\n",
    "plt.show()\n",
    "\n"
   ]
  },
  {
   "cell_type": "code",
   "execution_count": 19,
   "id": "309812e3",
   "metadata": {},
   "outputs": [],
   "source": [
    "\n",
    "\n",
    "import pickle\n",
    "\n",
    "with open(\"estimator.pickle\", \"wb\") as file:\n",
    "    pickle.dump(estimator, file)\n",
    "    \n",
    "    \n",
    "    \n",
    "    "
   ]
  },
  {
   "cell_type": "code",
   "execution_count": 20,
   "id": "08f63bb0",
   "metadata": {},
   "outputs": [
    {
     "data": {
      "text/plain": [
       "0.9654980523094046"
      ]
     },
     "execution_count": 20,
     "metadata": {},
     "output_type": "execute_result"
    }
   ],
   "source": [
    "    \n",
    "    \n",
    "with open(\"estimator.pickle\", \"rb\") as file:\n",
    "    new_clf = pickle.load(file)\n",
    "\n",
    "accuracy_score(\n",
    "    y_true=digits.target,\n",
    "    y_pred=new_clf.predict(data),\n",
    ")"
   ]
  }
 ],
 "metadata": {
  "kernelspec": {
   "display_name": ".venv",
   "language": "python",
   "name": "python3"
  },
  "language_info": {
   "codemirror_mode": {
    "name": "ipython",
    "version": 3
   },
   "file_extension": ".py",
   "mimetype": "text/x-python",
   "name": "python",
   "nbconvert_exporter": "python",
   "pygments_lexer": "ipython3",
   "version": "3.7.9"
  }
 },
 "nbformat": 4,
 "nbformat_minor": 5
}
